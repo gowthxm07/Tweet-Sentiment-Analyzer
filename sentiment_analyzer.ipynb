{
 "cells": [
  {
   "cell_type": "code",
   "execution_count": 2,
   "metadata": {},
   "outputs": [
    {
     "name": "stderr",
     "output_type": "stream",
     "text": [
      "[nltk_data] Downloading package averaged_perceptron_tagger to\n",
      "[nltk_data]     C:\\Users\\gowth\\AppData\\Roaming\\nltk_data...\n",
      "[nltk_data]   Package averaged_perceptron_tagger is already up-to-\n",
      "[nltk_data]       date!\n",
      "[nltk_data] Downloading package averaged_perceptron_tagger_eng to\n",
      "[nltk_data]     C:\\Users\\gowth\\AppData\\Roaming\\nltk_data...\n",
      "[nltk_data]   Package averaged_perceptron_tagger_eng is already up-to-\n",
      "[nltk_data]       date!\n"
     ]
    }
   ],
   "source": [
    "import nltk\n",
    "# Ensure NLTK searches for data in the correct directory\n",
    "nltk.data.path.append(\"C:\\\\Users\\\\gowth\\\\AppData\\\\Roaming\\\\nltk_data\")\n",
    "# Now proceed with your code\n",
    "nltk.download('averaged_perceptron_tagger')  # Optional, but ensures it's available\n",
    "nltk.data.path.append(\"C:\\\\Users\\\\gowth\\\\AppData\\\\Roaming\\\\nltk_data\")\n",
    "nltk.download('averaged_perceptron_tagger_eng')\n",
    "\n",
    "\n",
    "import pandas as pd   # Importing the pandas library\n",
    "import re    # Importing the regular expression library\n",
    "from nltk.tokenize import RegexpTokenizer    # Importing the RegexpTokenizer from the nltk.tokenize module\n",
    "import nltk    # Importing the nltk library\n",
    "from nltk.stem import WordNetLemmatizer    # Importing the WordNetLemmatizer from the nltk.stem module\n",
    "from nltk.corpus import wordnet    # Importing the wordnet from the nltk.corpus module\n",
    "from sklearn.model_selection import train_test_split    # Importing the train_test_split from the sklearn.model_selection module\n",
    "from sklearn.feature_extraction.text import TfidfVectorizer   # Importing the TfidfVectorizer from the sklearn.feature_extraction.text module\n",
    "from sklearn.linear_model import LogisticRegression   # Importing the LogisticRegression from the sklearn.linear_model module\n",
    "from sklearn.metrics import confusion_matrix, classification_report,  roc_curve, auc    # Importing the confusion_matrix, classification_report, roc_curve, auc from the sklearn.metrics module\n",
    "import nltk   # Importing the nltk library\n",
    "import matplotlib.pyplot as plt   # Importing the matplotlib.pyplot from the matplotlib library\n",
    "import seaborn as sns   # Importing the seaborn from the seaborn library"
   ]
  },
  {
   "cell_type": "code",
   "execution_count": 3,
   "metadata": {},
   "outputs": [
    {
     "name": "stderr",
     "output_type": "stream",
     "text": [
      "[nltk_data] Downloading package wordnet to\n",
      "[nltk_data]     C:\\Users\\gowth\\AppData\\Roaming\\nltk_data...\n",
      "[nltk_data]   Package wordnet is already up-to-date!\n",
      "[nltk_data] Downloading package omw-1.4 to\n",
      "[nltk_data]     C:\\Users\\gowth\\AppData\\Roaming\\nltk_data...\n",
      "[nltk_data]   Package omw-1.4 is already up-to-date!\n",
      "[nltk_data] Downloading package punkt to\n",
      "[nltk_data]     C:\\Users\\gowth\\AppData\\Roaming\\nltk_data...\n",
      "[nltk_data]   Package punkt is already up-to-date!\n",
      "[nltk_data] Downloading package averaged_perceptron_tagger to\n",
      "[nltk_data]     C:\\Users\\gowth\\AppData\\Roaming\\nltk_data...\n",
      "[nltk_data]   Package averaged_perceptron_tagger is already up-to-\n",
      "[nltk_data]       date!\n",
      "[nltk_data] Downloading package stopwords to\n",
      "[nltk_data]     C:\\Users\\gowth\\AppData\\Roaming\\nltk_data...\n",
      "[nltk_data]   Package stopwords is already up-to-date!\n"
     ]
    },
    {
     "data": {
      "text/plain": [
       "True"
      ]
     },
     "execution_count": 3,
     "metadata": {},
     "output_type": "execute_result"
    }
   ],
   "source": [
    "nltk.download('wordnet')\n",
    "nltk.download('omw-1.4')\n",
    "nltk.download('punkt')\n",
    "nltk.download('averaged_perceptron_tagger')\n",
    "nltk.download('stopwords')"
   ]
  },
  {
   "cell_type": "code",
   "execution_count": 4,
   "metadata": {},
   "outputs": [],
   "source": [
    "# Load the dataset\n",
    "DATASET_COLUMNS=['target','ids','date','flag','user','text']    # Column names of the dataset\n",
    "DATASET_ENCODING='ISO-8859-1'    # Encoding of the dataset (maps characters to binary representations)\n",
    "\n",
    "df=pd.read_csv('sentiment.csv',encoding=DATASET_ENCODING,names=DATASET_COLUMNS)    # Read the dataset"
   ]
  },
  {
   "cell_type": "code",
   "execution_count": 5,
   "metadata": {},
   "outputs": [],
   "source": [
    "#next step is to clean all the unnecessary data from the dataset(such as @ symbols, links, etc.) and then split the dataset into training and testing datasets\n",
    "\n",
    "#print(df['target'].value_counts())    # Print the count of each sentiment in the dataset\n",
    "#there are only two target values in the dataset, 0 and 4. 0 represents negative sentiment and 4 represents positive sentiment\n",
    "#so this will be a binary classification problem\n",
    "\n",
    "df['target']=df['target'].replace(4,1)    # Replace 4 with 1 in the target column"
   ]
  },
  {
   "cell_type": "code",
   "execution_count": 6,
   "metadata": {},
   "outputs": [],
   "source": [
    "# Data Cleaning\n",
    "def clean_text(text):\n",
    "    #these are the list of stopwords that we will remove from the text(because they do not add any value to the text)\n",
    "    #these are very common words that do not have anything to do with the sentiment of the text\n",
    "    stopwordlist = [\n",
    "        'a', 'about', 'above', 'after', 'again', 'ain', 'all', 'am', 'an',\n",
    "        'and', 'any', 'are', 'as', 'at', 'be', 'because', 'been', 'before',\n",
    "        'being', 'below', 'between', 'both', 'by', 'can', 'd', 'did', 'do',\n",
    "        'does', 'doing', 'down', 'during', 'each', 'few', 'for', 'from',\n",
    "        'further', 'had', 'has', 'have', 'having', 'he', 'her', 'here',\n",
    "        'hers', 'herself', 'him', 'himself', 'his', 'how', 'i', 'if', 'in',\n",
    "        'into', 'is', 'it', \"it's\", 'its', 'itself', 'just', 'll', 'm', 'ma',\n",
    "        'me', 'more', 'most', 'my', 'myself', 'needn', 'no', 'nor', 'now',\n",
    "        'o', 'of', 'on', 'once', 'only', 'or', 'other', 'our', 'ours', 'ourselves',\n",
    "        'out', 'own', 're', 's', 'same', 'she', \"shes\", 'should', \"shouldve\", 'so', 'some', 'such',\n",
    "        't', 'than', 'that', \"thatll\", 'the', 'their', 'theirs', 'them',\n",
    "        'themselves', 'then', 'there', 'these', 'they', 'this', 'those',\n",
    "        'through', 'to', 'too', 'under', 'until', 'up', 've', 'very', 'was',\n",
    "        'we', 'were', 'what', 'when', 'where', 'which', 'while', 'who', 'whom',\n",
    "        'why', 'will', 'with', 'won', 'y', 'you', \"youd\", \"youll\", \"youre\",\n",
    "        \"youve\", 'your', 'yours', 'yourself', 'yourselves'\n",
    "    ]\n",
    "    \n",
    "    # Function to get NLTK POS tag to WordNet POS tag\n",
    "    def get_wordnet_pos(treebank_tag):\n",
    "        if treebank_tag.startswith('J'):    # if the word is Adjective\n",
    "            return wordnet.ADJ  # Return the wordnet.ADJ\n",
    "        elif treebank_tag.startswith('V'):  # if the word is Verb\n",
    "            return wordnet.VERB # Return the wordnet.VERB\n",
    "        elif treebank_tag.startswith('N'):  # if the word is Noun\n",
    "            return wordnet.NOUN # Return the wordnet.NOUN\n",
    "        elif treebank_tag.startswith('R'):  # if the word is Adverb\n",
    "            return wordnet.ADV  # Return the wordnet.ADV\n",
    "        else:\n",
    "            return wordnet.NOUN # Return the wordnet.NOUN\n",
    "        \n",
    "        \n",
    "    #convert all text to lowercase\n",
    "    text=text.lower()\n",
    "    \n",
    "    #remove all the links(url's)\n",
    "    text = re.sub(r'((www\\.[^\\s]+)|(https?://[^\\s]+))', ' ',text)\n",
    "    \n",
    "    #replace @mentions with the word 'USER'\n",
    "    text=re.sub(r'@[^\\s]+','USER',text)\n",
    "    \n",
    "    #remove hashtags but keep the text\n",
    "    text = re.sub(r'#(\\S+)',r'\\1',text)\n",
    "    \n",
    "    #remove digits\n",
    "    text = re.sub(r'\\d+','',text)\n",
    "    \n",
    "    #remove whitespaces\n",
    "    text = re.sub(r'\\s+',' ',text)\n",
    "    \n",
    "    #strip leading and trailing whitespaces\n",
    "    text = text.strip()\n",
    "    \n",
    "    #remove stopwords\n",
    "    text = \" \".join([word for word in text.split() if word not in stopwordlist])\n",
    "    \n",
    "    #tokenize the text\n",
    "    #process of splitting text into smaller units called tokens (words, subwords, or characters) before feeding them into a machine learning (ML) model.\n",
    "    tokenizer = RegexpTokenizer(r'\\w+|[^\\w\\s]') #r'\\w-->this matches any word character (alphanumeric & underscore) and |[^\\w\\s]-->this matches any non-word character\n",
    "    tokens = tokenizer.tokenize(text)\n",
    "    \n",
    "    #parts of speech tagging\n",
    "    post_tags=nltk.pos_tag(tokens)\n",
    "    \n",
    "    #lemmaization of the text(noun to root noun, verb to root verb, etc.)\n",
    "    #Lemmatization is the process of reducing a word to its base or dictionary form (lemma) while considering its meaning and context.\n",
    "    lemmatizer = nltk.WordNetLemmatizer()\n",
    "    lemmatized_tokens=[lemmatizer.lemmatize(token,pos=get_wordnet_pos(tag)) for token,tag in post_tags]\n",
    "    \n",
    "    return \" \".join(lemmatized_tokens)   # Return the cleaned text\n",
    "\n",
    "    #this is the end of cleaning function and now we will apply this function to the text column of the dataset"
   ]
  },
  {
   "cell_type": "code",
   "execution_count": 7,
   "metadata": {},
   "outputs": [
    {
     "data": {
      "text/html": [
       "<div>\n",
       "<style scoped>\n",
       "    .dataframe tbody tr th:only-of-type {\n",
       "        vertical-align: middle;\n",
       "    }\n",
       "\n",
       "    .dataframe tbody tr th {\n",
       "        vertical-align: top;\n",
       "    }\n",
       "\n",
       "    .dataframe thead th {\n",
       "        text-align: right;\n",
       "    }\n",
       "</style>\n",
       "<table border=\"1\" class=\"dataframe\">\n",
       "  <thead>\n",
       "    <tr style=\"text-align: right;\">\n",
       "      <th></th>\n",
       "      <th>target</th>\n",
       "      <th>ids</th>\n",
       "      <th>date</th>\n",
       "      <th>flag</th>\n",
       "      <th>user</th>\n",
       "      <th>text</th>\n",
       "    </tr>\n",
       "  </thead>\n",
       "  <tbody>\n",
       "    <tr>\n",
       "      <th>0</th>\n",
       "      <td>0</td>\n",
       "      <td>1467810369</td>\n",
       "      <td>Mon Apr 06 22:19:45 PDT 2009</td>\n",
       "      <td>NO_QUERY</td>\n",
       "      <td>_TheSpecialOne_</td>\n",
       "      <td>@switchfoot http://twitpic.com/2y1zl - Awww, t...</td>\n",
       "    </tr>\n",
       "    <tr>\n",
       "      <th>1</th>\n",
       "      <td>0</td>\n",
       "      <td>1467810672</td>\n",
       "      <td>Mon Apr 06 22:19:49 PDT 2009</td>\n",
       "      <td>NO_QUERY</td>\n",
       "      <td>scotthamilton</td>\n",
       "      <td>is upset that he can't update his Facebook by ...</td>\n",
       "    </tr>\n",
       "    <tr>\n",
       "      <th>2</th>\n",
       "      <td>0</td>\n",
       "      <td>1467810917</td>\n",
       "      <td>Mon Apr 06 22:19:53 PDT 2009</td>\n",
       "      <td>NO_QUERY</td>\n",
       "      <td>mattycus</td>\n",
       "      <td>@Kenichan I dived many times for the ball. Man...</td>\n",
       "    </tr>\n",
       "    <tr>\n",
       "      <th>3</th>\n",
       "      <td>0</td>\n",
       "      <td>1467811184</td>\n",
       "      <td>Mon Apr 06 22:19:57 PDT 2009</td>\n",
       "      <td>NO_QUERY</td>\n",
       "      <td>ElleCTF</td>\n",
       "      <td>my whole body feels itchy and like its on fire</td>\n",
       "    </tr>\n",
       "    <tr>\n",
       "      <th>4</th>\n",
       "      <td>0</td>\n",
       "      <td>1467811193</td>\n",
       "      <td>Mon Apr 06 22:19:57 PDT 2009</td>\n",
       "      <td>NO_QUERY</td>\n",
       "      <td>Karoli</td>\n",
       "      <td>@nationwideclass no, it's not behaving at all....</td>\n",
       "    </tr>\n",
       "    <tr>\n",
       "      <th>...</th>\n",
       "      <td>...</td>\n",
       "      <td>...</td>\n",
       "      <td>...</td>\n",
       "      <td>...</td>\n",
       "      <td>...</td>\n",
       "      <td>...</td>\n",
       "    </tr>\n",
       "    <tr>\n",
       "      <th>1599995</th>\n",
       "      <td>1</td>\n",
       "      <td>2193601966</td>\n",
       "      <td>Tue Jun 16 08:40:49 PDT 2009</td>\n",
       "      <td>NO_QUERY</td>\n",
       "      <td>AmandaMarie1028</td>\n",
       "      <td>Just woke up. Having no school is the best fee...</td>\n",
       "    </tr>\n",
       "    <tr>\n",
       "      <th>1599996</th>\n",
       "      <td>1</td>\n",
       "      <td>2193601969</td>\n",
       "      <td>Tue Jun 16 08:40:49 PDT 2009</td>\n",
       "      <td>NO_QUERY</td>\n",
       "      <td>TheWDBoards</td>\n",
       "      <td>TheWDB.com - Very cool to hear old Walt interv...</td>\n",
       "    </tr>\n",
       "    <tr>\n",
       "      <th>1599997</th>\n",
       "      <td>1</td>\n",
       "      <td>2193601991</td>\n",
       "      <td>Tue Jun 16 08:40:49 PDT 2009</td>\n",
       "      <td>NO_QUERY</td>\n",
       "      <td>bpbabe</td>\n",
       "      <td>Are you ready for your MoJo Makeover? Ask me f...</td>\n",
       "    </tr>\n",
       "    <tr>\n",
       "      <th>1599998</th>\n",
       "      <td>1</td>\n",
       "      <td>2193602064</td>\n",
       "      <td>Tue Jun 16 08:40:49 PDT 2009</td>\n",
       "      <td>NO_QUERY</td>\n",
       "      <td>tinydiamondz</td>\n",
       "      <td>Happy 38th Birthday to my boo of alll time!!! ...</td>\n",
       "    </tr>\n",
       "    <tr>\n",
       "      <th>1599999</th>\n",
       "      <td>1</td>\n",
       "      <td>2193602129</td>\n",
       "      <td>Tue Jun 16 08:40:50 PDT 2009</td>\n",
       "      <td>NO_QUERY</td>\n",
       "      <td>RyanTrevMorris</td>\n",
       "      <td>happy #charitytuesday @theNSPCC @SparksCharity...</td>\n",
       "    </tr>\n",
       "  </tbody>\n",
       "</table>\n",
       "<p>1600000 rows × 6 columns</p>\n",
       "</div>"
      ],
      "text/plain": [
       "         target         ids                          date      flag  \\\n",
       "0             0  1467810369  Mon Apr 06 22:19:45 PDT 2009  NO_QUERY   \n",
       "1             0  1467810672  Mon Apr 06 22:19:49 PDT 2009  NO_QUERY   \n",
       "2             0  1467810917  Mon Apr 06 22:19:53 PDT 2009  NO_QUERY   \n",
       "3             0  1467811184  Mon Apr 06 22:19:57 PDT 2009  NO_QUERY   \n",
       "4             0  1467811193  Mon Apr 06 22:19:57 PDT 2009  NO_QUERY   \n",
       "...         ...         ...                           ...       ...   \n",
       "1599995       1  2193601966  Tue Jun 16 08:40:49 PDT 2009  NO_QUERY   \n",
       "1599996       1  2193601969  Tue Jun 16 08:40:49 PDT 2009  NO_QUERY   \n",
       "1599997       1  2193601991  Tue Jun 16 08:40:49 PDT 2009  NO_QUERY   \n",
       "1599998       1  2193602064  Tue Jun 16 08:40:49 PDT 2009  NO_QUERY   \n",
       "1599999       1  2193602129  Tue Jun 16 08:40:50 PDT 2009  NO_QUERY   \n",
       "\n",
       "                    user                                               text  \n",
       "0        _TheSpecialOne_  @switchfoot http://twitpic.com/2y1zl - Awww, t...  \n",
       "1          scotthamilton  is upset that he can't update his Facebook by ...  \n",
       "2               mattycus  @Kenichan I dived many times for the ball. Man...  \n",
       "3                ElleCTF    my whole body feels itchy and like its on fire   \n",
       "4                 Karoli  @nationwideclass no, it's not behaving at all....  \n",
       "...                  ...                                                ...  \n",
       "1599995  AmandaMarie1028  Just woke up. Having no school is the best fee...  \n",
       "1599996      TheWDBoards  TheWDB.com - Very cool to hear old Walt interv...  \n",
       "1599997           bpbabe  Are you ready for your MoJo Makeover? Ask me f...  \n",
       "1599998     tinydiamondz  Happy 38th Birthday to my boo of alll time!!! ...  \n",
       "1599999   RyanTrevMorris  happy #charitytuesday @theNSPCC @SparksCharity...  \n",
       "\n",
       "[1600000 rows x 6 columns]"
      ]
     },
     "execution_count": 7,
     "metadata": {},
     "output_type": "execute_result"
    }
   ],
   "source": [
    "df"
   ]
  },
  {
   "cell_type": "code",
   "execution_count": 8,
   "metadata": {},
   "outputs": [
    {
     "name": "stdout",
     "output_type": "stream",
     "text": [
      "✅ Text cleaning completed!\n"
     ]
    }
   ],
   "source": [
    "df['text'] = df['text'].apply(clean_text)    # Apply the clean_text function to the text column of the dataset\n",
    "print(\"✅ Text cleaning completed!\")"
   ]
  },
  {
   "cell_type": "code",
   "execution_count": 9,
   "metadata": {},
   "outputs": [
    {
     "name": "stdout",
     "output_type": "stream",
     "text": [
      "0    USER - awww , that ' s bummer . shoulda get da...\n",
      "1    upset can ' t update facebook texting it . . ....\n",
      "2    USER dive many time ball . manage save % rest ...\n",
      "3                      whole body feel itchy like fire\n",
      "4    USER no , not behave all . i ' m mad . here ? ...\n",
      "5                                  USER not whole crew\n",
      "6                                             need hug\n",
      "7    USER hey long time see ! yes . . rain bit , on...\n",
      "8                                   USER nope didn ' t\n",
      "9                                     USER que muera ?\n",
      "Name: text, dtype: object\n"
     ]
    }
   ],
   "source": [
    "print(df['text'].head(10))"
   ]
  },
  {
   "cell_type": "code",
   "execution_count": 10,
   "metadata": {},
   "outputs": [
    {
     "data": {
      "text/plain": [
       "\"x_train: Training features (80% of df['text'])\\nx_test: Testing features (20% of df['text'])\\ny_train: Training labels (80% of df['target'])\\ny_test: Testing labels (20% of df['target'])\""
      ]
     },
     "execution_count": 10,
     "metadata": {},
     "output_type": "execute_result"
    }
   ],
   "source": [
    "#split the dataset into training and testing datasets\n",
    "X_train, X_test, y_train, y_test = train_test_split(df['text'], df['target'], test_size=0.2, random_state=42)    # Split the dataset into training and testing datasets\n",
    "\n",
    "'''x_train: Training features (80% of df['text'])\n",
    "x_test: Testing features (20% of df['text'])\n",
    "y_train: Training labels (80% of df['target'])\n",
    "y_test: Testing labels (20% of df['target'])'''"
   ]
  },
  {
   "cell_type": "code",
   "execution_count": 11,
   "metadata": {},
   "outputs": [],
   "source": [
    "#now we need to vectorize the text data using the TfidfVectorizer(term frequency-inverse document frequency)\n",
    "#it is used to evaluate how important a word is to a document in a collection or corpus\n",
    "#A vectorizer is used in Natural Language Processing (NLP) to convert text data into numerical form so that machine learning models can process it\n",
    "\n",
    "# Initialize the TfidfVectorizer\n",
    "vectorizer = TfidfVectorizer(max_features=500000, ngram_range=(1, 2))   #here max_features is the maximum number of features to keep and ngram_range is the range of n-grams to extract\n",
    "\n",
    "# Fit and transform the training data\n",
    "X_train_vect = vectorizer.fit_transform(X_train)\n",
    "\n",
    "# Transform the testing data\n",
    "X_test_vect = vectorizer.transform(X_test)"
   ]
  },
  {
   "cell_type": "code",
   "execution_count": 17,
   "metadata": {},
   "outputs": [],
   "source": [
    "#function for evaluating the model\n",
    "def evaluate_model(model):\n",
    "    model.fit(X_train_vect, y_train)    # Fit the model (it means training the model)\n",
    "    y_pred = model.predict(X_test_vect)    # Predict the target values\n",
    "    \n",
    "    print(classification_report(y_test, y_pred))    # Print the classification report(It provides key metrics to evaluate the model’s accuracy and effectiveness for each class)\n",
    "    \n",
    "    cm = confusion_matrix(y_test, y_pred)   # Compute the confusion matrix\n",
    "    sns.heatmap(cm, annot=True, fmt='d', cmap='Blues')  # Plot the confusion matrix\n",
    "    plt.xlabel('Predicted')   # Label the x-axis\n",
    "    plt.ylabel('Actual')    # Label the y-axis\n",
    "    plt.show()  # Display the plot\n",
    "\n",
    "    fpr, tpr, _ = roc_curve(y_test, model.predict_proba(X_test_vect)[:, 1])   # Compute the ROC curve\n",
    "    plt.plot(fpr, tpr, label='ROC curve (area = %0.2f)' % auc(fpr, tpr))    # Plot the ROC curve\n",
    "    plt.plot([0, 1], [0, 1], 'k--')   # Plot the diagonal line\n",
    "    plt.xlabel('False Positive Rate')   # Label the x-axis\n",
    "    plt.ylabel('True Positive Rate')    # Label the y-axis\n",
    "    plt.title('ROC Curve')  # Set the title\n",
    "    plt.legend(loc=\"lower right\")   # Set the legend\n",
    "    plt.show()  # Display the plot"
   ]
  },
  {
   "cell_type": "code",
   "execution_count": 19,
   "metadata": {},
   "outputs": [
    {
     "data": {
      "text/plain": [
       "'\\nA Confusion Matrix is a table that summarizes how well a classification model performed. It shows actual vs. predicted values.\\n\\n\\t                Predicted: Positive\\t      Predicted: Negative\\nActual: Positive\\tTrue Positive (TP) ✅\\tFalse Negative (FN) ❌\\nActual: Negative\\tFalse Positive (FP) ❌\\tTrue Negative (TN) ✅\\n\\nTP (True Positive): Model correctly predicted positive.\\nTN (True Negative): Model correctly predicted negative.\\nFP (False Positive): Model wrongly predicted positive (Type I Error).\\nFN (False Negative): Model wrongly predicted negative (Type II Error).\\n\\nThe ROC Curve plots True Positive Rate (Recall) vs. False Positive Rate for different threshold values.\\n\\nTrue Positive Rate (TPR) = Recall = TP / (TP + FN)\\nFalse Positive Rate (FPR) = FP / (FP + TN)\\nThe diagonal line (y = x) represents a random guess.\\nThe higher the curve, the better the model.\\n\\nArea Under the Curve (AUC) shows overall performance:\\nAUC = 1 → Perfect model ✅\\nAUC > 0.9 → Excellent model 🔥\\nAUC ~ 0.5 → Random guessing ❌\\n'"
      ]
     },
     "execution_count": 19,
     "metadata": {},
     "output_type": "execute_result"
    }
   ],
   "source": [
    "'''\n",
    "A Confusion Matrix is a table that summarizes how well a classification model performed. It shows actual vs. predicted values.\n",
    "\n",
    "\t                Predicted: Positive\t      Predicted: Negative\n",
    "Actual: Positive\tTrue Positive (TP) ✅\tFalse Negative (FN) ❌\n",
    "Actual: Negative\tFalse Positive (FP) ❌\tTrue Negative (TN) ✅\n",
    "\n",
    "TP (True Positive): Model correctly predicted positive.\n",
    "TN (True Negative): Model correctly predicted negative.\n",
    "FP (False Positive): Model wrongly predicted positive (Type I Error).\n",
    "FN (False Negative): Model wrongly predicted negative (Type II Error).\n",
    "\n",
    "The ROC Curve plots True Positive Rate (Recall) vs. False Positive Rate for different threshold values.\n",
    "\n",
    "True Positive Rate (TPR) = Recall = TP / (TP + FN)\n",
    "False Positive Rate (FPR) = FP / (FP + TN)\n",
    "The diagonal line (y = x) represents a random guess.\n",
    "The higher the curve, the better the model.\n",
    "\n",
    "Area Under the Curve (AUC) shows overall performance:\n",
    "AUC = 1 → Perfect model ✅\n",
    "AUC > 0.9 → Excellent model 🔥\n",
    "AUC ~ 0.5 → Random guessing ❌\n",
    "'''"
   ]
  },
  {
   "cell_type": "code",
   "execution_count": 14,
   "metadata": {},
   "outputs": [],
   "source": [
    "# Initialize the LogisticRegression model\n",
    "lr_model=LogisticRegression(C=2,max_iter=1000,n_jobs=-1)    \n",
    "\n",
    "#c is the inverse regularization strength, which helps to avoid overfitting (higher c value means less regularization and the model will overfit)\n",
    "#max_iter is the maximum number of iterations taken for the solvers to converge\n",
    "#n_jobs is the number of CPU cores used when parallelizing over classes (paralled processing)"
   ]
  },
  {
   "cell_type": "code",
   "execution_count": 18,
   "metadata": {},
   "outputs": [
    {
     "name": "stdout",
     "output_type": "stream",
     "text": [
      "              precision    recall  f1-score   support\n",
      "\n",
      "           0       0.81      0.79      0.80    159494\n",
      "           1       0.80      0.82      0.81    160506\n",
      "\n",
      "    accuracy                           0.81    320000\n",
      "   macro avg       0.81      0.81      0.81    320000\n",
      "weighted avg       0.81      0.81      0.81    320000\n",
      "\n"
     ]
    },
    {
     "data": {
      "image/png": "[encoded data removed]",
      "text/plain": [
       "<Figure size 640x480 with 2 Axes>"
      ]
     },
     "metadata": {},
     "output_type": "display_data"
    },
    {
     "data": {
      "image/png": "[encoded data removed]",
      "text/plain": [
       "<Figure size 640x480 with 1 Axes>"
      ]
     },
     "metadata": {},
     "output_type": "display_data"
    }
   ],
   "source": [
    "#now we will evaluate the model using evaluate_model function\n",
    "evaluate_model(lr_model)"
   ]
  },
  {
   "cell_type": "code",
   "execution_count": 16,
   "metadata": {},
   "outputs": [
    {
     "data": {
      "text/plain": [
       "'Precision-->Out of all predicted positives, how many were actually correct?\\n   Recall-->Out of all actual positives, how many were predicted correctly?\\n   F1-Score-->The weighted average of Precision and Recall\\n   support-->The number of actual occurrences of the class in the specified dataset\\n   Accuracy-->The percentage of correct predictions made by the model\\n   Macro avg-->The average of the precision, recall, and F1 score for all classes\\n   Weighted avg-->The weighted average of the precision, recall, and F1 score for all classes\\n'"
      ]
     },
     "execution_count": 16,
     "metadata": {},
     "output_type": "execute_result"
    }
   ],
   "source": [
    "'''Precision-->Out of all predicted positives, how many were actually correct?\n",
    "   Recall-->Out of all actual positives, how many were predicted correctly?\n",
    "   F1-Score-->The weighted average of Precision and Recall\n",
    "   support-->The number of actual occurrences of the class in the specified dataset\n",
    "   Accuracy-->The percentage of correct predictions made by the model\n",
    "   Macro avg-->The average of the precision, recall, and F1 score for all classes\n",
    "   Weighted avg-->The weighted average of the precision, recall, and F1 score for all classes\n",
    "'''"
   ]
  },
  {
   "cell_type": "code",
   "execution_count": 20,
   "metadata": {},
   "outputs": [
    {
     "name": "stdout",
     "output_type": "stream",
     "text": [
      "Tweet: I hate the new design of your website! It's too bad!\n",
      "Predicted Sentiment: Negative\n",
      "\n",
      "Tweet: I love Striver's YouTube channel very much\n",
      "Predicted Sentiment: Positive\n",
      "\n",
      "Tweet: This guy always teaches good\n",
      "Predicted Sentiment: Positive\n",
      "\n"
     ]
    }
   ],
   "source": [
    "# Example test tweets\n",
    "test_tweets = [\n",
    "    \"I hate the new design of your website! It's too bad!\",\n",
    "    \"I love Striver's YouTube channel very much\",\n",
    "    \"This guy always teaches good\"\n",
    "]\n",
    "\n",
    "# Clean the test tweets\n",
    "cleaned_tweets = [clean_text(tweet) for tweet in test_tweets]\n",
    "\n",
    "# Transform the cleaned tweets using the same vectorizer\n",
    "vectorized_tweets = vectorizer.transform(cleaned_tweets)\n",
    "\n",
    "# Predict the sentiment for each tweet\n",
    "predicted_sentiments = lr_model.predict(vectorized_tweets)\n",
    "\n",
    "# Output the results\n",
    "for tweet, sentiment in zip(test_tweets, predicted_sentiments):\n",
    "    print(f\"Tweet: {tweet}\")\n",
    "    print(f\"Predicted Sentiment: {'Positive' if sentiment == 1 else 'Negative'}\\n\")\n"
   ]
  },
  {
   "cell_type": "code",
   "execution_count": null,
   "metadata": {},
   "outputs": [],
   "source": []
  }
 ],
 "metadata": {
  "kernelspec": {
   "display_name": "Python 3",
   "language": "python",
   "name": "python3"
  },
  "language_info": {
   "codemirror_mode": {
    "name": "ipython",
    "version": 3
   },
   "file_extension": ".py",
   "mimetype": "text/x-python",
   "name": "python",
   "nbconvert_exporter": "python",
   "pygments_lexer": "ipython3",
   "version": "3.12.6"
  }
 },
 "nbformat": 4,
 "nbformat_minor": 2
}
